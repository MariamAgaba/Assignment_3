{
 "cells": [
  {
   "cell_type": "markdown",
   "id": "ff9f57ba",
   "metadata": {},
   "source": [
    "# Knowing the type of Variable"
   ]
  },
  {
   "cell_type": "code",
   "execution_count": 4,
   "id": "af3599fc",
   "metadata": {},
   "outputs": [
    {
     "name": "stdout",
     "output_type": "stream",
     "text": [
      "<class 'int'>\n",
      "<class 'str'>\n",
      "<class 'float'>\n"
     ]
    }
   ],
   "source": [
    "x = 5\n",
    "y = \"Mimi\"\n",
    "z = 5.0\n",
    "print (type(x))\n",
    "print (type(y))\n",
    "print (type(z))"
   ]
  },
  {
   "cell_type": "markdown",
   "id": "e628310e",
   "metadata": {},
   "source": [
    "# Declaring String Variables with Single or Double Quotes"
   ]
  },
  {
   "cell_type": "code",
   "execution_count": 5,
   "id": "dc2aba18",
   "metadata": {},
   "outputs": [],
   "source": [
    "x = \"Mimi\"\n",
    "# is the same as\n",
    "x = 'Mimi'"
   ]
  },
  {
   "cell_type": "code",
   "execution_count": 8,
   "id": "a3ffb6b6",
   "metadata": {},
   "outputs": [
    {
     "name": "stdout",
     "output_type": "stream",
     "text": [
      "6\n",
      "Sally baby\n"
     ]
    }
   ],
   "source": [
    "# Variable names are case sensitive\n",
    "a = 6\n",
    "A = \"Sally baby\"\n",
    "print(a)\n",
    "print(A) #A will not overwrite a"
   ]
  },
  {
   "cell_type": "markdown",
   "id": "067044ef",
   "metadata": {},
   "source": [
    "# Assigning Multiple Variables"
   ]
  },
  {
   "cell_type": "code",
   "execution_count": 10,
   "id": "0dc14ccd",
   "metadata": {},
   "outputs": [
    {
     "name": "stdout",
     "output_type": "stream",
     "text": [
      "Orange\n",
      "Mango\n",
      "Banana\n"
     ]
    }
   ],
   "source": [
    "x, y, z = \"Orange\", \"Mango\", \"Banana\"\n",
    "print(x)\n",
    "print(y)\n",
    "print(z)"
   ]
  },
  {
   "cell_type": "code",
   "execution_count": 11,
   "id": "b41c839a",
   "metadata": {},
   "outputs": [
    {
     "name": "stdout",
     "output_type": "stream",
     "text": [
      "Orange\n",
      "Orange\n",
      "Orange\n"
     ]
    }
   ],
   "source": [
    "#one value to multiple variables\n",
    "x = y = z = \"Orange\"\n",
    "print(x)\n",
    "print(y)\n",
    "print(z)"
   ]
  },
  {
   "cell_type": "code",
   "execution_count": 15,
   "id": "8c6043a7",
   "metadata": {},
   "outputs": [
    {
     "name": "stdout",
     "output_type": "stream",
     "text": [
      "Orange\n",
      "Mango\n",
      "Banana\n"
     ]
    }
   ],
   "source": [
    "#unpack a collection\n",
    "Fruits = [\"Orange\", \"Mango\", \"Banana\"]\n",
    "x, y, z = Fruits\n",
    "print(x)\n",
    "print(y)\n",
    "print(z)"
   ]
  },
  {
   "cell_type": "markdown",
   "id": "156f33f8",
   "metadata": {},
   "source": [
    "# Output Variables"
   ]
  },
  {
   "cell_type": "code",
   "execution_count": 16,
   "id": "e04c2548",
   "metadata": {},
   "outputs": [
    {
     "name": "stdout",
     "output_type": "stream",
     "text": [
      "I love Mango\n"
     ]
    }
   ],
   "source": [
    "x = \"I love Mango\"\n",
    "print(x)"
   ]
  },
  {
   "cell_type": "code",
   "execution_count": 18,
   "id": "d1540239",
   "metadata": {},
   "outputs": [
    {
     "name": "stdout",
     "output_type": "stream",
     "text": [
      "I love Mango\n"
     ]
    }
   ],
   "source": [
    "x = \"I\"\n",
    "y = \"love\"\n",
    "z= \"Mango\"\n",
    "print(x, y, z) #best is to separate using comma"
   ]
  },
  {
   "cell_type": "code",
   "execution_count": 20,
   "id": "dd2ff6ca",
   "metadata": {},
   "outputs": [
    {
     "name": "stdout",
     "output_type": "stream",
     "text": [
      "I love Mango\n"
     ]
    }
   ],
   "source": [
    "x = \"I \"\n",
    "y = \"love \"\n",
    "z= \"Mango\"\n",
    "print(x + y + z)"
   ]
  },
  {
   "cell_type": "code",
   "execution_count": 21,
   "id": "b612ed50",
   "metadata": {},
   "outputs": [],
   "source": [
    "carname = \"Volvo\""
   ]
  },
  {
   "cell_type": "markdown",
   "id": "c7c99a42",
   "metadata": {},
   "source": [
    "# TYPES OF DATA"
   ]
  },
  {
   "cell_type": "code",
   "execution_count": null,
   "id": "dc401a4f",
   "metadata": {},
   "outputs": [],
   "source": [
    "int #numbers\n",
    "str #letters\n",
    "float #decimal\n",
    "boolean #True or False"
   ]
  },
  {
   "cell_type": "code",
   "execution_count": null,
   "id": "5113b505",
   "metadata": {},
   "outputs": [],
   "source": []
  },
  {
   "cell_type": "code",
   "execution_count": 1,
   "id": "29ad8f71",
   "metadata": {},
   "outputs": [
    {
     "data": {
      "text/plain": [
       "[12, 10, 15, 17]"
      ]
     },
     "execution_count": 1,
     "metadata": {},
     "output_type": "execute_result"
    }
   ],
   "source": [
    "[12, 10, 15, 17]"
   ]
  },
  {
   "cell_type": "code",
   "execution_count": 2,
   "id": "da879e2b",
   "metadata": {},
   "outputs": [],
   "source": [
    "test_scores = [12, 10, 15, 17]"
   ]
  },
  {
   "cell_type": "code",
   "execution_count": 3,
   "id": "1f2709f8",
   "metadata": {},
   "outputs": [
    {
     "data": {
      "text/plain": [
       "17"
      ]
     },
     "execution_count": 3,
     "metadata": {},
     "output_type": "execute_result"
    }
   ],
   "source": [
    "dami_math_score = test_scores[3]\n",
    "dami_math_score"
   ]
  },
  {
   "cell_type": "code",
   "execution_count": null,
   "id": "9ccd2871",
   "metadata": {},
   "outputs": [],
   "source": [
    "name.append()"
   ]
  },
  {
   "cell_type": "code",
   "execution_count": null,
   "id": "5320acc9",
   "metadata": {},
   "outputs": [],
   "source": [
    "name.extend"
   ]
  },
  {
   "cell_type": "code",
   "execution_count": 4,
   "id": "a798b84a",
   "metadata": {},
   "outputs": [
    {
     "data": {
      "text/plain": [
       "4"
      ]
     },
     "execution_count": 4,
     "metadata": {},
     "output_type": "execute_result"
    }
   ],
   "source": [
    "len([1,2,3,4])"
   ]
  },
  {
   "cell_type": "code",
   "execution_count": null,
   "id": "56cadaad",
   "metadata": {},
   "outputs": [],
   "source": [
    "[1,2,3,4] # list\n",
    "(1,2,3,4) # tuple"
   ]
  },
  {
   "cell_type": "code",
   "execution_count": 7,
   "id": "c23e4a6c",
   "metadata": {},
   "outputs": [],
   "source": [
    "lst = ['ola', 'sam', 'ife', 'ayo', 'ade']\n",
    "tpl = ('ola', 'sam', 'ife', 'ayo', 'ade')"
   ]
  },
  {
   "cell_type": "code",
   "execution_count": 8,
   "id": "790f33d0",
   "metadata": {},
   "outputs": [
    {
     "data": {
      "text/plain": [
       "'sam'"
      ]
     },
     "execution_count": 8,
     "metadata": {},
     "output_type": "execute_result"
    }
   ],
   "source": [
    "lst[1]"
   ]
  },
  {
   "cell_type": "code",
   "execution_count": 1,
   "id": "5d66d648",
   "metadata": {},
   "outputs": [],
   "source": [
    "list1= [1,2,3,4]\n",
    "list2= [5,6,7,8]"
   ]
  },
  {
   "cell_type": "code",
   "execution_count": 3,
   "id": "123703a5",
   "metadata": {},
   "outputs": [],
   "source": [
    "list1.append(3)"
   ]
  },
  {
   "cell_type": "code",
   "execution_count": 4,
   "id": "3fea5b66",
   "metadata": {},
   "outputs": [],
   "source": [
    "list1.extend(list2)"
   ]
  },
  {
   "cell_type": "code",
   "execution_count": 5,
   "id": "0321860e",
   "metadata": {},
   "outputs": [
    {
     "data": {
      "text/plain": [
       "[1, 2, 3, 4, 3, 5, 6, 7, 8]"
      ]
     },
     "execution_count": 5,
     "metadata": {},
     "output_type": "execute_result"
    }
   ],
   "source": [
    "list1"
   ]
  },
  {
   "cell_type": "code",
   "execution_count": 9,
   "id": "8aed40d0",
   "metadata": {},
   "outputs": [],
   "source": [
    "dict = {\"name\": 'Damilola', 'Age':20, 'height':150}"
   ]
  },
  {
   "cell_type": "code",
   "execution_count": 10,
   "id": "b53437e4",
   "metadata": {},
   "outputs": [
    {
     "data": {
      "text/plain": [
       "150"
      ]
     },
     "execution_count": 10,
     "metadata": {},
     "output_type": "execute_result"
    }
   ],
   "source": [
    "dict ['height']"
   ]
  },
  {
   "cell_type": "code",
   "execution_count": 15,
   "id": "3c611623",
   "metadata": {},
   "outputs": [],
   "source": [
    "dict = {\"name\": ['Damilola', 'ade', 'ola', 'ayo'], 'Age':[20,22,29,19], 'height':[150,120,90,200]}"
   ]
  },
  {
   "cell_type": "code",
   "execution_count": 17,
   "id": "095632af",
   "metadata": {},
   "outputs": [
    {
     "data": {
      "text/plain": [
       "[150, 120, 90, 200]"
      ]
     },
     "execution_count": 17,
     "metadata": {},
     "output_type": "execute_result"
    }
   ],
   "source": [
    "dict['height']"
   ]
  },
  {
   "cell_type": "code",
   "execution_count": 16,
   "id": "a1f469a4",
   "metadata": {},
   "outputs": [
    {
     "data": {
      "text/plain": [
       "120"
      ]
     },
     "execution_count": 16,
     "metadata": {},
     "output_type": "execute_result"
    }
   ],
   "source": [
    "dict['height'][1]"
   ]
  },
  {
   "cell_type": "code",
   "execution_count": 18,
   "id": "a21c16be",
   "metadata": {},
   "outputs": [
    {
     "data": {
      "text/plain": [
       "'ayo'"
      ]
     },
     "execution_count": 18,
     "metadata": {},
     "output_type": "execute_result"
    }
   ],
   "source": [
    "dict['name'][3]"
   ]
  },
  {
   "cell_type": "code",
   "execution_count": 25,
   "id": "1d83b648",
   "metadata": {},
   "outputs": [
    {
     "data": {
      "text/plain": [
       "11"
      ]
     },
     "execution_count": 25,
     "metadata": {},
     "output_type": "execute_result"
    }
   ],
   "source": [
    "name=('celebration')\n",
    "len('celebration')"
   ]
  },
  {
   "cell_type": "markdown",
   "id": "7122ea5f",
   "metadata": {},
   "source": [
    "# SET"
   ]
  },
  {
   "cell_type": "code",
   "execution_count": 19,
   "id": "481189a4",
   "metadata": {},
   "outputs": [],
   "source": [
    "set1 = {1,2,3,4,5,6}\n",
    "set2 = {3,4,2,5,67}"
   ]
  },
  {
   "cell_type": "code",
   "execution_count": 20,
   "id": "11c3a86e",
   "metadata": {},
   "outputs": [
    {
     "data": {
      "text/plain": [
       "{1, 2, 3, 4, 5, 6, 67}"
      ]
     },
     "execution_count": 20,
     "metadata": {},
     "output_type": "execute_result"
    }
   ],
   "source": [
    "universal_set = set1.union(set2)\n",
    "universal_set"
   ]
  },
  {
   "cell_type": "code",
   "execution_count": 21,
   "id": "ea2c1961",
   "metadata": {},
   "outputs": [
    {
     "data": {
      "text/plain": [
       "{2, 3, 4, 5}"
      ]
     },
     "execution_count": 21,
     "metadata": {},
     "output_type": "execute_result"
    }
   ],
   "source": [
    "set1 & set2"
   ]
  },
  {
   "cell_type": "code",
   "execution_count": 24,
   "id": "f8f219f4",
   "metadata": {},
   "outputs": [
    {
     "data": {
      "text/plain": [
       "{1, 2, 3, 4, 5, 6, 67}"
      ]
     },
     "execution_count": 24,
     "metadata": {},
     "output_type": "execute_result"
    }
   ],
   "source": [
    "set1 | set2"
   ]
  },
  {
   "cell_type": "code",
   "execution_count": 31,
   "id": "4e1689e8",
   "metadata": {},
   "outputs": [
    {
     "data": {
      "text/plain": [
       "True"
      ]
     },
     "execution_count": 31,
     "metadata": {},
     "output_type": "execute_result"
    }
   ],
   "source": [
    "name = 'ola'\n",
    "name == 'ola'"
   ]
  },
  {
   "cell_type": "code",
   "execution_count": 33,
   "id": "a518380e",
   "metadata": {},
   "outputs": [
    {
     "data": {
      "text/plain": [
       "False"
      ]
     },
     "execution_count": 33,
     "metadata": {},
     "output_type": "execute_result"
    }
   ],
   "source": [
    "name = 'ola'\n",
    "name == 'olu'"
   ]
  },
  {
   "cell_type": "code",
   "execution_count": 32,
   "id": "94126054",
   "metadata": {},
   "outputs": [
    {
     "data": {
      "text/plain": [
       "False"
      ]
     },
     "execution_count": 32,
     "metadata": {},
     "output_type": "execute_result"
    }
   ],
   "source": [
    "name = 'ola'\n",
    "name != 'ola'"
   ]
  },
  {
   "cell_type": "code",
   "execution_count": 34,
   "id": "6e6c21c5",
   "metadata": {},
   "outputs": [
    {
     "name": "stdout",
     "output_type": "stream",
     "text": [
      "keep standing\n"
     ]
    }
   ],
   "source": [
    "gender = 'man'\n",
    "if gender == 'man':\n",
    "    print('keep standing')\n",
    "else:\n",
    "     print('sit down')"
   ]
  },
  {
   "cell_type": "code",
   "execution_count": 35,
   "id": "9e0e1ab2",
   "metadata": {},
   "outputs": [
    {
     "name": "stdout",
     "output_type": "stream",
     "text": [
      "sit down\n"
     ]
    }
   ],
   "source": [
    "gender = 'man'\n",
    "if gender == 'woman':\n",
    "    print('keep standing')\n",
    "else:\n",
    "     print('sit down')"
   ]
  },
  {
   "cell_type": "code",
   "execution_count": 36,
   "id": "87b370ec",
   "metadata": {},
   "outputs": [
    {
     "name": "stdout",
     "output_type": "stream",
     "text": [
      "sit down\n"
     ]
    }
   ],
   "source": [
    "gender = 'man'\n",
    "if gender != 'man':\n",
    "    print('keep standing')\n",
    "else:\n",
    "     print('sit down')"
   ]
  },
  {
   "cell_type": "code",
   "execution_count": 37,
   "id": "21876b46",
   "metadata": {},
   "outputs": [
    {
     "name": "stdout",
     "output_type": "stream",
     "text": [
      "keep standing\n"
     ]
    }
   ],
   "source": [
    "gender = 'man'\n",
    "if gender == 'man':\n",
    "    print('keep standing')\n",
    "elif gender=='woman':\n",
    "     print('sit down')\n",
    "else:\n",
    "     print('what is your gender')"
   ]
  },
  {
   "cell_type": "code",
   "execution_count": 48,
   "id": "3ce9235b",
   "metadata": {},
   "outputs": [
    {
     "name": "stdout",
     "output_type": "stream",
     "text": [
      "sit down\n"
     ]
    }
   ],
   "source": [
    "gender = 'woman'\n",
    "if gender == 'man':\n",
    "    print('keep standing')\n",
    "elif gender=='woman':\n",
    "     print('sit down')\n",
    "else:\n",
    "     print('what is your gender')"
   ]
  },
  {
   "cell_type": "code",
   "execution_count": 38,
   "id": "4d5e58a9",
   "metadata": {},
   "outputs": [
    {
     "name": "stdout",
     "output_type": "stream",
     "text": [
      "what is your gender\n"
     ]
    }
   ],
   "source": [
    "gender = 'women'\n",
    "if gender == 'man':\n",
    "    print('keep standing')\n",
    "elif gender=='woman':\n",
    "     print('sit down')\n",
    "else:\n",
    "     print('what is your gender')"
   ]
  },
  {
   "cell_type": "code",
   "execution_count": null,
   "id": "7864a870",
   "metadata": {},
   "outputs": [],
   "source": []
  },
  {
   "cell_type": "code",
   "execution_count": 46,
   "id": "725ab3a7",
   "metadata": {},
   "outputs": [
    {
     "name": "stdout",
     "output_type": "stream",
     "text": [
      "you are of age\n"
     ]
    }
   ],
   "source": [
    "age = 18\n",
    "if age < 18:\n",
    "    print('you are under age')\n",
    "elif age == 18:\n",
    "    print('you are of age')\n",
    "else:\n",
    "    print('you are an elder')"
   ]
  },
  {
   "cell_type": "code",
   "execution_count": 47,
   "id": "3a6b42d2",
   "metadata": {},
   "outputs": [
    {
     "name": "stdout",
     "output_type": "stream",
     "text": [
      "you are an elder\n"
     ]
    }
   ],
   "source": [
    "age = 20\n",
    "if age < 18:\n",
    "    print('you are under age')\n",
    "elif age == 18:\n",
    "    print('you are of age')\n",
    "else:\n",
    "    print('you are an elder')"
   ]
  },
  {
   "cell_type": "code",
   "execution_count": null,
   "id": "a1cc641a",
   "metadata": {},
   "outputs": [],
   "source": []
  }
 ],
 "metadata": {
  "kernelspec": {
   "display_name": "Python 3 (ipykernel)",
   "language": "python",
   "name": "python3"
  },
  "language_info": {
   "codemirror_mode": {
    "name": "ipython",
    "version": 3
   },
   "file_extension": ".py",
   "mimetype": "text/x-python",
   "name": "python",
   "nbconvert_exporter": "python",
   "pygments_lexer": "ipython3",
   "version": "3.11.4"
  }
 },
 "nbformat": 4,
 "nbformat_minor": 5
}
