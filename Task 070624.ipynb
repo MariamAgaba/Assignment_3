{
 "cells": [
  {
   "cell_type": "code",
   "execution_count": 27,
   "id": "ef0446ec",
   "metadata": {},
   "outputs": [],
   "source": [
    "Name = 'Abduljabbar'\n",
    "Age = 6\n",
    "Height = 11.5\n",
    "Weight = 19\n",
    "Question = True \n"
   ]
  },
  {
   "cell_type": "code",
   "execution_count": 7,
   "id": "41b8fce0",
   "metadata": {},
   "outputs": [
    {
     "name": "stdout",
     "output_type": "stream",
     "text": [
      "Abduljabbar\n"
     ]
    }
   ],
   "source": [
    "print(Name)"
   ]
  },
  {
   "cell_type": "code",
   "execution_count": 8,
   "id": "133d5559",
   "metadata": {},
   "outputs": [
    {
     "data": {
      "text/plain": [
       "'b'"
      ]
     },
     "execution_count": 8,
     "metadata": {},
     "output_type": "execute_result"
    }
   ],
   "source": [
    "Name[1]"
   ]
  },
  {
   "cell_type": "code",
   "execution_count": 9,
   "id": "b81dc677",
   "metadata": {},
   "outputs": [
    {
     "data": {
      "text/plain": [
       "'b'"
      ]
     },
     "execution_count": 9,
     "metadata": {},
     "output_type": "execute_result"
    }
   ],
   "source": [
    "'Abduljabbar'[1]"
   ]
  },
  {
   "cell_type": "code",
   "execution_count": 11,
   "id": "0db06086",
   "metadata": {},
   "outputs": [],
   "source": [
    "Friends = []"
   ]
  },
  {
   "cell_type": "code",
   "execution_count": 12,
   "id": "8273b392",
   "metadata": {},
   "outputs": [],
   "source": [
    "Friends.append(Name)"
   ]
  },
  {
   "cell_type": "code",
   "execution_count": 13,
   "id": "98045c74",
   "metadata": {},
   "outputs": [
    {
     "data": {
      "text/plain": [
       "['Abduljabbar']"
      ]
     },
     "execution_count": 13,
     "metadata": {},
     "output_type": "execute_result"
    }
   ],
   "source": [
    "Friends"
   ]
  },
  {
   "cell_type": "code",
   "execution_count": 14,
   "id": "5eb574e8",
   "metadata": {},
   "outputs": [],
   "source": [
    "Parameter = Age + Weight"
   ]
  },
  {
   "cell_type": "code",
   "execution_count": 15,
   "id": "a7bba9b5",
   "metadata": {},
   "outputs": [
    {
     "data": {
      "text/plain": [
       "25"
      ]
     },
     "execution_count": 15,
     "metadata": {},
     "output_type": "execute_result"
    }
   ],
   "source": [
    "Parameter"
   ]
  },
  {
   "cell_type": "code",
   "execution_count": 16,
   "id": "bfeaa363",
   "metadata": {},
   "outputs": [
    {
     "data": {
      "text/plain": [
       "(6, 19)"
      ]
     },
     "execution_count": 16,
     "metadata": {},
     "output_type": "execute_result"
    }
   ],
   "source": [
    "Parameter = Age, Weight\n",
    "Parameter"
   ]
  },
  {
   "cell_type": "code",
   "execution_count": 20,
   "id": "7e8bf1f2",
   "metadata": {},
   "outputs": [],
   "source": [
    "Friends.append(Parameter)"
   ]
  },
  {
   "cell_type": "code",
   "execution_count": 21,
   "id": "1a01de5d",
   "metadata": {},
   "outputs": [
    {
     "data": {
      "text/plain": [
       "['Abduljabbar', (6, 19)]"
      ]
     },
     "execution_count": 21,
     "metadata": {},
     "output_type": "execute_result"
    }
   ],
   "source": [
    "Friends"
   ]
  },
  {
   "cell_type": "code",
   "execution_count": 28,
   "id": "0dfb7989",
   "metadata": {},
   "outputs": [
    {
     "data": {
      "text/plain": [
       "1"
      ]
     },
     "execution_count": 28,
     "metadata": {},
     "output_type": "execute_result"
    }
   ],
   "source": [
    "int(Question)"
   ]
  },
  {
   "cell_type": "code",
   "execution_count": 30,
   "id": "23e0a2b0",
   "metadata": {},
   "outputs": [
    {
     "data": {
      "text/plain": [
       "['Abduljabbar', (6, 19), True, True]"
      ]
     },
     "execution_count": 30,
     "metadata": {},
     "output_type": "execute_result"
    }
   ],
   "source": [
    "Friends.append(Question)\n",
    "Friends"
   ]
  },
  {
   "cell_type": "code",
   "execution_count": 31,
   "id": "0b8ef576",
   "metadata": {},
   "outputs": [
    {
     "data": {
      "text/plain": [
       "4"
      ]
     },
     "execution_count": 31,
     "metadata": {},
     "output_type": "execute_result"
    }
   ],
   "source": [
    "len(Friends)"
   ]
  },
  {
   "cell_type": "code",
   "execution_count": 46,
   "id": "4bfe70f6",
   "metadata": {},
   "outputs": [],
   "source": [
    "West = [\"Osun\", \"Ogun\", \"Ekiti\", \"Ondo\", \"Sokoto\"]\n",
    "North = [\"Kano\", \"Yola\", \"Jalingo\", \"Maiduguri\"]\n",
    "East = [\"Enugu\", \"Abia\", \"Delta\", \"Rivers\"]"
   ]
  },
  {
   "cell_type": "code",
   "execution_count": 51,
   "id": "e22d660d",
   "metadata": {},
   "outputs": [
    {
     "name": "stdout",
     "output_type": "stream",
     "text": [
      "['Osun', 'Ogun', 'Ekiti', 'Ondo', 'Lagos']\n"
     ]
    }
   ],
   "source": [
    "West[-1] = \"Lagos\"\n",
    "print(West) "
   ]
  },
  {
   "cell_type": "code",
   "execution_count": 52,
   "id": "810cfd3c",
   "metadata": {},
   "outputs": [
    {
     "name": "stdout",
     "output_type": "stream",
     "text": [
      "['Osun', 'Ogun', 'Ekiti', 'Ondo', 'Lagos']\n"
     ]
    }
   ],
   "source": [
    "West[4] = \"Lagos\"\n",
    "print(West)"
   ]
  },
  {
   "cell_type": "code",
   "execution_count": 41,
   "id": "ecd12dca",
   "metadata": {},
   "outputs": [
    {
     "data": {
      "text/plain": [
       "['Osun', 'Ogun', 'Ekiti', 'Ondo', 'Sokoto', 'Lagos']"
      ]
     },
     "execution_count": 41,
     "metadata": {},
     "output_type": "execute_result"
    }
   ],
   "source": [
    "West.append (\"Lagos\")\n",
    "West"
   ]
  },
  {
   "cell_type": "code",
   "execution_count": 42,
   "id": "026e91d8",
   "metadata": {},
   "outputs": [
    {
     "data": {
      "text/plain": [
       "['Osun', 'Ogun', 'Ekiti', 'Ondo', 'Lagos']"
      ]
     },
     "execution_count": 42,
     "metadata": {},
     "output_type": "execute_result"
    }
   ],
   "source": [
    "West.remove(\"Sokoto\")\n",
    "West"
   ]
  },
  {
   "cell_type": "code",
   "execution_count": 85,
   "id": "bcfa6d00",
   "metadata": {},
   "outputs": [],
   "source": [
    "West = [\"Osun\", \"Ogun\", \"Ekiti\", \"Ondo\", \"Sokoto\"]\n",
    "North = [\"Kano\", \"Yola\", \"Jalingo\", \"Maiduguri\"]\n",
    "East = [\"Enugu\", \"Abia\", \"Delta\", \"Rivers\"]"
   ]
  },
  {
   "cell_type": "code",
   "execution_count": 58,
   "id": "dfc07d48",
   "metadata": {},
   "outputs": [
    {
     "data": {
      "text/plain": [
       "('Osun', 'Ogun', 'Ekiti', 'Ondo', 'Lagos')"
      ]
     },
     "execution_count": 58,
     "metadata": {},
     "output_type": "execute_result"
    }
   ],
   "source": [
    "tuple(West)"
   ]
  },
  {
   "cell_type": "code",
   "execution_count": 60,
   "id": "e591ead2",
   "metadata": {},
   "outputs": [
    {
     "data": {
      "text/plain": [
       "('Kano', 'Yola', 'Jalingo', 'Maiduguri')"
      ]
     },
     "execution_count": 60,
     "metadata": {},
     "output_type": "execute_result"
    }
   ],
   "source": [
    "tuple(North)"
   ]
  },
  {
   "cell_type": "code",
   "execution_count": 81,
   "id": "cda4c09a",
   "metadata": {},
   "outputs": [
    {
     "data": {
      "text/plain": [
       "('Enugu', 'Abia', 'Delta', 'Rivers')"
      ]
     },
     "execution_count": 81,
     "metadata": {},
     "output_type": "execute_result"
    }
   ],
   "source": [
    "tuple(East)"
   ]
  },
  {
   "cell_type": "markdown",
   "id": "91b7a719",
   "metadata": {},
   "source": [
    "Create a dictionary called a Nigeria and append West, North and East"
   ]
  },
  {
   "cell_type": "code",
   "execution_count": 86,
   "id": "f5b0308b",
   "metadata": {},
   "outputs": [],
   "source": [
    "Nigeria = {}"
   ]
  },
  {
   "cell_type": "code",
   "execution_count": 87,
   "id": "4e24b1c8",
   "metadata": {},
   "outputs": [],
   "source": [
    "Nigeria[\"West\"] = West\n",
    "Nigeria[\"North\"] = North\n",
    "Nigeria[\"East\"] = East"
   ]
  },
  {
   "cell_type": "code",
   "execution_count": 88,
   "id": "6d77101c",
   "metadata": {},
   "outputs": [
    {
     "data": {
      "text/plain": [
       "{'West': ['Osun', 'Ogun', 'Ekiti', 'Ondo', 'Sokoto'],\n",
       " 'North': ['Kano', 'Yola', 'Jalingo', 'Maiduguri'],\n",
       " 'East': ['Enugu', 'Abia', 'Delta', 'Rivers']}"
      ]
     },
     "execution_count": 88,
     "metadata": {},
     "output_type": "execute_result"
    }
   ],
   "source": [
    "Nigeria"
   ]
  },
  {
   "cell_type": "code",
   "execution_count": null,
   "id": "f85eb63b",
   "metadata": {},
   "outputs": [],
   "source": []
  },
  {
   "cell_type": "code",
   "execution_count": null,
   "id": "955a4bff",
   "metadata": {},
   "outputs": [],
   "source": []
  }
 ],
 "metadata": {
  "kernelspec": {
   "display_name": "Python 3 (ipykernel)",
   "language": "python",
   "name": "python3"
  },
  "language_info": {
   "codemirror_mode": {
    "name": "ipython",
    "version": 3
   },
   "file_extension": ".py",
   "mimetype": "text/x-python",
   "name": "python",
   "nbconvert_exporter": "python",
   "pygments_lexer": "ipython3",
   "version": "3.11.4"
  }
 },
 "nbformat": 4,
 "nbformat_minor": 5
}
