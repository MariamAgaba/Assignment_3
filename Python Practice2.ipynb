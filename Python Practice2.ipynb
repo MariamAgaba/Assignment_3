{
 "cells": [
  {
   "cell_type": "markdown",
   "id": "ff9f57ba",
   "metadata": {},
   "source": [
    "# Knowing the type of Variable"
   ]
  },
  {
   "cell_type": "code",
   "execution_count": 4,
   "id": "af3599fc",
   "metadata": {},
   "outputs": [
    {
     "name": "stdout",
     "output_type": "stream",
     "text": [
      "<class 'int'>\n",
      "<class 'str'>\n",
      "<class 'float'>\n"
     ]
    }
   ],
   "source": [
    "x = 5\n",
    "y = \"Mimi\"\n",
    "z = 5.0\n",
    "print (type(x))\n",
    "print (type(y))\n",
    "print (type(z))"
   ]
  },
  {
   "cell_type": "markdown",
   "id": "e628310e",
   "metadata": {},
   "source": [
    "# Declaring String Variables with Single or Double Quotes"
   ]
  },
  {
   "cell_type": "code",
   "execution_count": 5,
   "id": "dc2aba18",
   "metadata": {},
   "outputs": [],
   "source": [
    "x = \"Mimi\"\n",
    "# is the same as\n",
    "x = 'Mimi'"
   ]
  },
  {
   "cell_type": "code",
   "execution_count": 8,
   "id": "a3ffb6b6",
   "metadata": {},
   "outputs": [
    {
     "name": "stdout",
     "output_type": "stream",
     "text": [
      "6\n",
      "Sally baby\n"
     ]
    }
   ],
   "source": [
    "# Variable names are case sensitive\n",
    "a = 6\n",
    "A = \"Sally baby\"\n",
    "print(a)\n",
    "print(A) #A will not overwrite a"
   ]
  },
  {
   "cell_type": "markdown",
   "id": "067044ef",
   "metadata": {},
   "source": [
    "# Assigning Multiple Variables"
   ]
  },
  {
   "cell_type": "code",
   "execution_count": 10,
   "id": "0dc14ccd",
   "metadata": {},
   "outputs": [
    {
     "name": "stdout",
     "output_type": "stream",
     "text": [
      "Orange\n",
      "Mango\n",
      "Banana\n"
     ]
    }
   ],
   "source": [
    "x, y, z = \"Orange\", \"Mango\", \"Banana\"\n",
    "print(x)\n",
    "print(y)\n",
    "print(z)"
   ]
  },
  {
   "cell_type": "code",
   "execution_count": 11,
   "id": "b41c839a",
   "metadata": {},
   "outputs": [
    {
     "name": "stdout",
     "output_type": "stream",
     "text": [
      "Orange\n",
      "Orange\n",
      "Orange\n"
     ]
    }
   ],
   "source": [
    "#one value to multiple variables\n",
    "x = y = z = \"Orange\"\n",
    "print(x)\n",
    "print(y)\n",
    "print(z)"
   ]
  },
  {
   "cell_type": "code",
   "execution_count": 15,
   "id": "8c6043a7",
   "metadata": {},
   "outputs": [
    {
     "name": "stdout",
     "output_type": "stream",
     "text": [
      "Orange\n",
      "Mango\n",
      "Banana\n"
     ]
    }
   ],
   "source": [
    "#unpack a collection\n",
    "Fruits = [\"Orange\", \"Mango\", \"Banana\"]\n",
    "x, y, z = Fruits\n",
    "print(x)\n",
    "print(y)\n",
    "print(z)"
   ]
  },
  {
   "cell_type": "markdown",
   "id": "156f33f8",
   "metadata": {},
   "source": [
    "# Output Variables"
   ]
  },
  {
   "cell_type": "code",
   "execution_count": 16,
   "id": "e04c2548",
   "metadata": {},
   "outputs": [
    {
     "name": "stdout",
     "output_type": "stream",
     "text": [
      "I love Mango\n"
     ]
    }
   ],
   "source": [
    "x = \"I love Mango\"\n",
    "print(x)"
   ]
  },
  {
   "cell_type": "code",
   "execution_count": 18,
   "id": "d1540239",
   "metadata": {},
   "outputs": [
    {
     "name": "stdout",
     "output_type": "stream",
     "text": [
      "I love Mango\n"
     ]
    }
   ],
   "source": [
    "x = \"I\"\n",
    "y = \"love\"\n",
    "z= \"Mango\"\n",
    "print(x, y, z) #best is to separate using comma"
   ]
  },
  {
   "cell_type": "code",
   "execution_count": 20,
   "id": "dd2ff6ca",
   "metadata": {},
   "outputs": [
    {
     "name": "stdout",
     "output_type": "stream",
     "text": [
      "I love Mango\n"
     ]
    }
   ],
   "source": [
    "x = \"I \"\n",
    "y = \"love \"\n",
    "z= \"Mango\"\n",
    "print(x + y + z)"
   ]
  },
  {
   "cell_type": "code",
   "execution_count": 21,
   "id": "b612ed50",
   "metadata": {},
   "outputs": [],
   "source": [
    "carname = \"Volvo\""
   ]
  },
  {
   "cell_type": "code",
   "execution_count": null,
   "id": "29ad8f71",
   "metadata": {},
   "outputs": [],
   "source": []
  }
 ],
 "metadata": {
  "kernelspec": {
   "display_name": "Python 3 (ipykernel)",
   "language": "python",
   "name": "python3"
  },
  "language_info": {
   "codemirror_mode": {
    "name": "ipython",
    "version": 3
   },
   "file_extension": ".py",
   "mimetype": "text/x-python",
   "name": "python",
   "nbconvert_exporter": "python",
   "pygments_lexer": "ipython3",
   "version": "3.11.4"
  }
 },
 "nbformat": 4,
 "nbformat_minor": 5
}
