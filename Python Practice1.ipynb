{
 "cells": [
  {
   "cell_type": "code",
   "execution_count": 1,
   "id": "a082c418",
   "metadata": {},
   "outputs": [
    {
     "name": "stdout",
     "output_type": "stream",
     "text": [
      "Hello World!\n"
     ]
    }
   ],
   "source": [
    "    print (\"Hello World!\")"
   ]
  },
  {
   "cell_type": "code",
   "execution_count": 2,
   "id": "3dc3c030",
   "metadata": {},
   "outputs": [
    {
     "name": "stdout",
     "output_type": "stream",
     "text": [
      "My name is Mariam\n"
     ]
    }
   ],
   "source": [
    "    print (\"My name is Mariam\")"
   ]
  },
  {
   "cell_type": "markdown",
   "id": "7d82bdec",
   "metadata": {},
   "source": [
    "# Python Synthax"
   ]
  },
  {
   "cell_type": "code",
   "execution_count": 4,
   "id": "4dd4be75",
   "metadata": {},
   "outputs": [
    {
     "name": "stdout",
     "output_type": "stream",
     "text": [
      "Five is greater than two\n"
     ]
    }
   ],
   "source": [
    "if 5 > 2:\n",
    "    print(\"Five is greater than two\")"
   ]
  },
  {
   "cell_type": "code",
   "execution_count": 5,
   "id": "93d7a283",
   "metadata": {},
   "outputs": [
    {
     "name": "stdout",
     "output_type": "stream",
     "text": [
      "YES\n"
     ]
    }
   ],
   "source": [
    "if 5 > 2:\n",
    "    print (\"YES\")"
   ]
  },
  {
   "cell_type": "markdown",
   "id": "52425dc8",
   "metadata": {},
   "source": [
    "# Assigning Variables in Python"
   ]
  },
  {
   "cell_type": "code",
   "execution_count": 11,
   "id": "6cf46e96",
   "metadata": {},
   "outputs": [
    {
     "name": "stdout",
     "output_type": "stream",
     "text": [
      "My name\n",
      "is\n",
      "Mariam\n"
     ]
    }
   ],
   "source": [
    "x = \"My name\"\n",
    "y = \"is\"\n",
    "z = \"Mariam\"\n",
    "print(x)\n",
    "print(y)\n",
    "print(z)"
   ]
  },
  {
   "cell_type": "code",
   "execution_count": 12,
   "id": "5acce2a5",
   "metadata": {},
   "outputs": [
    {
     "name": "stdout",
     "output_type": "stream",
     "text": [
      "My name is Mariam\n"
     ]
    }
   ],
   "source": [
    "print(x, y, z)"
   ]
  },
  {
   "cell_type": "markdown",
   "id": "a6826dee",
   "metadata": {},
   "source": [
    "# Commenting in Python"
   ]
  },
  {
   "cell_type": "code",
   "execution_count": 13,
   "id": "713083cc",
   "metadata": {},
   "outputs": [
    {
     "name": "stdout",
     "output_type": "stream",
     "text": [
      "My name is Mariam\n"
     ]
    }
   ],
   "source": [
    "# This is my name\n",
    "print(x, y, z)"
   ]
  },
  {
   "cell_type": "code",
   "execution_count": 14,
   "id": "f22014e7",
   "metadata": {},
   "outputs": [
    {
     "name": "stdout",
     "output_type": "stream",
     "text": [
      "My full name is Mariam Agaba\n"
     ]
    }
   ],
   "source": [
    "#print(x, y, z)\n",
    "print(\"My full name is Mariam Agaba\")"
   ]
  },
  {
   "cell_type": "code",
   "execution_count": 15,
   "id": "f048eb55",
   "metadata": {},
   "outputs": [
    {
     "name": "stdout",
     "output_type": "stream",
     "text": [
      "My full name is Mariam Agaba\n"
     ]
    }
   ],
   "source": [
    "#print (\"My name is Mariam\")\n",
    "print(\"My full name is Mariam Agaba\")"
   ]
  }
 ],
 "metadata": {
  "kernelspec": {
   "display_name": "Python 3 (ipykernel)",
   "language": "python",
   "name": "python3"
  },
  "language_info": {
   "codemirror_mode": {
    "name": "ipython",
    "version": 3
   },
   "file_extension": ".py",
   "mimetype": "text/x-python",
   "name": "python",
   "nbconvert_exporter": "python",
   "pygments_lexer": "ipython3",
   "version": "3.11.4"
  }
 },
 "nbformat": 4,
 "nbformat_minor": 5
}
